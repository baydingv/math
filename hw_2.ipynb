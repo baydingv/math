{
 "cells": [
  {
   "cell_type": "markdown",
   "metadata": {},
   "source": [
    "## Урок 3"
   ]
  },
  {
   "cell_type": "code",
   "execution_count": 1,
   "metadata": {},
   "outputs": [],
   "source": [
    "%matplotlib inline\n",
    "import numpy as np"
   ]
  },
  {
   "cell_type": "code",
   "execution_count": null,
   "metadata": {},
   "outputs": [],
   "source": [
    "# 4.1 код, моделирующий выпадение поля в рулетке\n",
    "for i in range(10):\n",
    "    x = np.random.randint(0,37)\n",
    "    print(x)\n",
    "    a = input()\n"
   ]
  },
  {
   "cell_type": "code",
   "execution_count": null,
   "metadata": {
    "scrolled": true
   },
   "outputs": [],
   "source": [
    "# 4.2.1а проверка вероятности наступления одного из двух несовместных событий \n",
    "# (выпадение числа с 1 в разряде десятков и 2 в этом разряде) - должно быть 20/37 = 0.5405405405405406\n",
    "N,cnt = 10000000,0\n",
    "x = np.random.randint(0,37,N)\n",
    "for en in x:\n",
    "    if en>9 and en<30: cnt +=1\n",
    "p = cnt/N\n",
    "print(p)\n",
    "# 4.2.1б проверка вероятности наступления двух независимых событий\n",
    "# (выпадение в двух бросках одного положительного четного, другого - нечетного числа) - должно быть (18/37)**2 = 0.23666910153396642\n",
    "cnt = 0\n",
    "for i in range(0,N,2):\n",
    "    if x[i]*x[i+1]>0 and (x[i]%2)+(x[i+1]%2)==1: cnt +=1\n",
    "p = cnt/N\n",
    "print(p)\n"
   ]
  },
  {
   "cell_type": "code",
   "execution_count": null,
   "metadata": {},
   "outputs": [],
   "source": [
    "# 4.2.2 десять выборок по 10 случайных чисел\n",
    "import matplotlib.pyplot as plt\n",
    "x=[]\n",
    "for i in range(10):\n",
    "    x.append(sum(np.random.rand(10)))\n",
    "print(x)\n",
    "num_bins = 5\n",
    "n,bins,patches = plt.hist(x,num_bins,normed=1,facecolor='blue')\n",
    "plt.show()"
   ]
  },
  {
   "cell_type": "code",
   "execution_count": null,
   "metadata": {},
   "outputs": [],
   "source": [
    "# 4.3.1 Бернулли: вероятность 2 успехов в 4х испытаниях p= C^2_4 * 0.5**2 * 0.5** 2 = 6 * 0.25 * 0.25 = 0.375 (в коде 0.3718)\n",
    "#                 вероятность 3 успехов в 5х испытаниях p= C^3_5 * 0.5**3 * 0.5** 2 = 10 / 32 = 0.3125       (в коде 0.3126129)\n",
    "k,n = 0,10000000\n",
    "a = np.random.randint(0,2,n)\n",
    "b = np.random.randint(0,2,n)\n",
    "c = np.random.randint(0,2,n)\n",
    "d = np.random.randint(0,2,n)\n",
    "e = np.random.randint(0,2,n)\n",
    "\n",
    "x = a + b + c + d + e\n",
    "for i in range(n):\n",
    "    if x[i]==3: k += 1\n",
    "print(k/n)"
   ]
  },
  {
   "cell_type": "code",
   "execution_count": null,
   "metadata": {},
   "outputs": [],
   "source": [
    "# 4.4.1 сочетания и перестановки С^3_5 = 5!/(3!2!) = 10;  A^3_5 = 5!/2! = 60\n",
    "import itertools\n",
    "# сочетания\n",
    "for p in itertools.combinations('abcde',3):\n",
    "#    print(''.join(str(x) for x in p))\n",
    "    print(''.join(p))\n"
   ]
  },
  {
   "cell_type": "code",
   "execution_count": null,
   "metadata": {},
   "outputs": [],
   "source": [
    "for p in itertools.permutations('abcde',3):\n",
    "# перестановки\n",
    "    print(''.join(str(x) for x in p))"
   ]
  },
  {
   "cell_type": "code",
   "execution_count": 6,
   "metadata": {},
   "outputs": [
    {
     "name": "stdout",
     "output_type": "stream",
     "text": [
      "[[1.         0.91734221]\n",
      " [0.91734221 1.        ]]\n",
      "0.9173422131261952\n"
     ]
    }
   ],
   "source": [
    "# 4.5.1 корреляция\n",
    "n,r = 100,0.7\n",
    "x = np.random.rand(n)\n",
    "y = x*r + (1-r)*np.random.rand(n)\n",
    "r1 = np.corrcoef(x,y)\n",
    "xm,ym = np.sum(x)/n,np.sum(y)/n\n",
    "r2 = np.sum((x-xm)*(y-ym))/np.sqrt(np.sum((x-xm)**2)*np.sum((y-ym)**2))\n",
    "print(r1)\n",
    "print(r2)"
   ]
  },
  {
   "cell_type": "code",
   "execution_count": null,
   "metadata": {},
   "outputs": [],
   "source": []
  }
 ],
 "metadata": {
  "kernelspec": {
   "display_name": "Python 3",
   "language": "python",
   "name": "python3"
  },
  "language_info": {
   "codemirror_mode": {
    "name": "ipython",
    "version": 3
   },
   "file_extension": ".py",
   "mimetype": "text/x-python",
   "name": "python",
   "nbconvert_exporter": "python",
   "pygments_lexer": "ipython3",
   "version": "3.7.3"
  }
 },
 "nbformat": 4,
 "nbformat_minor": 2
}
